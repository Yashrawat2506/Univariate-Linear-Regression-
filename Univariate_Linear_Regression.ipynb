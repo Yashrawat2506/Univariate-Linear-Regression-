{
 "cells": [
  {
   "cell_type": "code",
   "execution_count": 59,
   "metadata": {},
   "outputs": [],
   "source": [
    "#importing libraries\n",
    "import numpy as np\n",
    "import matplotlib.pyplot as plt\n",
    "import pandas as pd"
   ]
  },
  {
   "cell_type": "code",
   "execution_count": 87,
   "metadata": {},
   "outputs": [],
   "source": [
    "#Generating random data set\n",
    "np.random.seed(0)\n",
    "x = np.random.rand(100,1)\n",
    "y= 2 + 3*x + np.random.rand(100,1)"
   ]
  },
  {
   "cell_type": "code",
   "execution_count": 88,
   "metadata": {},
   "outputs": [
    {
     "name": "stdout",
     "output_type": "stream",
     "text": [
      "[[0.5488135 ]\n",
      " [0.71518937]\n",
      " [0.60276338]\n",
      " [0.54488318]\n",
      " [0.4236548 ]\n",
      " [0.64589411]\n",
      " [0.43758721]\n",
      " [0.891773  ]\n",
      " [0.96366276]\n",
      " [0.38344152]\n",
      " [0.79172504]\n",
      " [0.52889492]\n",
      " [0.56804456]\n",
      " [0.92559664]\n",
      " [0.07103606]\n",
      " [0.0871293 ]\n",
      " [0.0202184 ]\n",
      " [0.83261985]\n",
      " [0.77815675]\n",
      " [0.87001215]\n",
      " [0.97861834]\n",
      " [0.79915856]\n",
      " [0.46147936]\n",
      " [0.78052918]\n",
      " [0.11827443]\n",
      " [0.63992102]\n",
      " [0.14335329]\n",
      " [0.94466892]\n",
      " [0.52184832]\n",
      " [0.41466194]\n",
      " [0.26455561]\n",
      " [0.77423369]\n",
      " [0.45615033]\n",
      " [0.56843395]\n",
      " [0.0187898 ]\n",
      " [0.6176355 ]\n",
      " [0.61209572]\n",
      " [0.616934  ]\n",
      " [0.94374808]\n",
      " [0.6818203 ]\n",
      " [0.3595079 ]\n",
      " [0.43703195]\n",
      " [0.6976312 ]\n",
      " [0.06022547]\n",
      " [0.66676672]\n",
      " [0.67063787]\n",
      " [0.21038256]\n",
      " [0.1289263 ]\n",
      " [0.31542835]\n",
      " [0.36371077]\n",
      " [0.57019677]\n",
      " [0.43860151]\n",
      " [0.98837384]\n",
      " [0.10204481]\n",
      " [0.20887676]\n",
      " [0.16130952]\n",
      " [0.65310833]\n",
      " [0.2532916 ]\n",
      " [0.46631077]\n",
      " [0.24442559]\n",
      " [0.15896958]\n",
      " [0.11037514]\n",
      " [0.65632959]\n",
      " [0.13818295]\n",
      " [0.19658236]\n",
      " [0.36872517]\n",
      " [0.82099323]\n",
      " [0.09710128]\n",
      " [0.83794491]\n",
      " [0.09609841]\n",
      " [0.97645947]\n",
      " [0.4686512 ]\n",
      " [0.97676109]\n",
      " [0.60484552]\n",
      " [0.73926358]\n",
      " [0.03918779]\n",
      " [0.28280696]\n",
      " [0.12019656]\n",
      " [0.2961402 ]\n",
      " [0.11872772]\n",
      " [0.31798318]\n",
      " [0.41426299]\n",
      " [0.0641475 ]\n",
      " [0.69247212]\n",
      " [0.56660145]\n",
      " [0.26538949]\n",
      " [0.52324805]\n",
      " [0.09394051]\n",
      " [0.5759465 ]\n",
      " [0.9292962 ]\n",
      " [0.31856895]\n",
      " [0.66741038]\n",
      " [0.13179786]\n",
      " [0.7163272 ]\n",
      " [0.28940609]\n",
      " [0.18319136]\n",
      " [0.58651293]\n",
      " [0.02010755]\n",
      " [0.82894003]\n",
      " [0.00469548]] [[4.32425705]\n",
      " [4.41557607]\n",
      " [4.54348415]\n",
      " [4.59683809]\n",
      " [3.51971754]\n",
      " [4.51383967]\n",
      " [3.90480357]\n",
      " [5.24757091]\n",
      " [5.11406991]\n",
      " [4.10307357]\n",
      " [4.82230049]\n",
      " [4.43309343]\n",
      " [4.40361296]\n",
      " [5.07422687]\n",
      " [3.02690599]\n",
      " [2.65789364]\n",
      " [2.94175839]\n",
      " [5.07913241]\n",
      " [5.21620561]\n",
      " [5.30256803]\n",
      " [5.66110931]\n",
      " [4.89880007]\n",
      " [4.34052172]\n",
      " [4.98557773]\n",
      " [2.77867833]\n",
      " [4.52615628]\n",
      " [2.44925306]\n",
      " [5.13558157]\n",
      " [4.2257185 ]\n",
      " [3.53406343]\n",
      " [3.41168227]\n",
      " [4.75146977]\n",
      " [3.50392506]\n",
      " [4.00358417]\n",
      " [2.62633431]\n",
      " [4.44377925]\n",
      " [4.41061242]\n",
      " [4.50400281]\n",
      " [5.48334751]\n",
      " [4.47687933]\n",
      " [3.9750703 ]\n",
      " [3.67865773]\n",
      " [4.52875851]\n",
      " [3.07259977]\n",
      " [4.80649414]\n",
      " [4.71580219]\n",
      " [2.73137457]\n",
      " [3.30626151]\n",
      " [3.66052635]\n",
      " [4.08997932]\n",
      " [3.86003862]\n",
      " [4.1839306 ]\n",
      " [5.12761445]\n",
      " [2.921694  ]\n",
      " [2.75045025]\n",
      " [3.33193678]\n",
      " [4.76664394]\n",
      " [3.32897555]\n",
      " [3.80611562]\n",
      " [2.80244377]\n",
      " [3.17433752]\n",
      " [2.78466811]\n",
      " [4.69104437]\n",
      " [3.28093118]\n",
      " [3.56526859]\n",
      " [3.96197885]\n",
      " [4.47469377]\n",
      " [2.65128189]\n",
      " [5.24382528]\n",
      " [2.4599249 ]\n",
      " [5.450415  ]\n",
      " [3.46029159]\n",
      " [5.13027979]\n",
      " [3.83305835]\n",
      " [5.01148844]\n",
      " [2.34148806]\n",
      " [3.19377257]\n",
      " [3.28867098]\n",
      " [3.59283499]\n",
      " [2.38802209]\n",
      " [3.11864369]\n",
      " [3.86426739]\n",
      " [2.76967108]\n",
      " [4.31530918]\n",
      " [4.63401836]\n",
      " [3.41013443]\n",
      " [4.10537696]\n",
      " [2.87173151]\n",
      " [4.45796152]\n",
      " [5.09983359]\n",
      " [3.35392792]\n",
      " [4.21207489]\n",
      " [2.58158659]\n",
      " [5.093354  ]\n",
      " [3.60776907]\n",
      " [3.04003289]\n",
      " [3.98695343]\n",
      " [2.31467912]\n",
      " [4.54484925]\n",
      " [2.44850305]]\n",
      "100 100\n"
     ]
    }
   ],
   "source": [
    "#printing random data\n",
    "print(x,y)\n",
    "print(len(x),len(y))"
   ]
  },
  {
   "cell_type": "code",
   "execution_count": 89,
   "metadata": {},
   "outputs": [
    {
     "data": {
      "image/png": "[encoded data removed]",
      "text/plain": [
       "<Figure size 432x288 with 1 Axes>"
      ]
     },
     "metadata": {
      "needs_background": "light"
     },
     "output_type": "display_data"
    }
   ],
   "source": [
    "#plotting the values\n",
    "plt.scatter(x,y,s=10)\n",
    "plt.xlabel('x')\n",
    "plt.ylabel('y')\n",
    "plt.show()"
   ]
  },
  {
   "cell_type": "code",
   "execution_count": 90,
   "metadata": {},
   "outputs": [],
   "source": [
    "#Finding mean\n",
    "mean_x = np.mean(x)\n",
    "mean_y = np.mean(y)\n",
    "n=len(x)"
   ]
  },
  {
   "cell_type": "code",
   "execution_count": 91,
   "metadata": {},
   "outputs": [],
   "source": [
    "#Calculating values of slope and intercept\n",
    "numer=0\n",
    "denom=0\n",
    "for i in range(n):\n",
    "    numer += (x[i]-mean_x)*(y[i]-mean_y)\n",
    "    denom += (x[i]-mean_x)**2\n",
    "m = numer/denom\n",
    "c = mean_y - (m*mean_x)"
   ]
  },
  {
   "cell_type": "code",
   "execution_count": 92,
   "metadata": {},
   "outputs": [
    {
     "name": "stdout",
     "output_type": "stream",
     "text": [
      "[2.93655106] [2.55808002]\n"
     ]
    }
   ],
   "source": [
    "#coefficients\n",
    "print(m,c)"
   ]
  },
  {
   "cell_type": "code",
   "execution_count": 93,
   "metadata": {},
   "outputs": [],
   "source": [
    "#predicted values\n",
    "max_x = np.max(x) +100\n",
    "min_x = np.min(x) - 100\n",
    "Y = m*x + c"
   ]
  },
  {
   "cell_type": "code",
   "execution_count": 99,
   "metadata": {},
   "outputs": [
    {
     "name": "stdout",
     "output_type": "stream",
     "text": [
      "[[4.1696989 ]\n",
      " [4.65827012]\n",
      " [4.32812546]\n",
      " [4.15815731]\n",
      " [3.80216397]\n",
      " [4.45478107]\n",
      " [3.84307721]\n",
      " [5.17681698]\n",
      " [5.38792493]\n",
      " [3.68407562]\n",
      " [4.88302102]\n",
      " [4.11120696]\n",
      " [4.22617188]\n",
      " [5.27614181]\n",
      " [2.76668104]\n",
      " [2.81393966]\n",
      " [2.61745238]\n",
      " [5.00311071]\n",
      " [4.84317706]\n",
      " [5.11291512]\n",
      " [5.43184275]\n",
      " [4.90484995]\n",
      " [3.91323773]\n",
      " [4.8501438 ]\n",
      " [2.90539891]\n",
      " [4.43724078]\n",
      " [2.97904427]\n",
      " [5.33214853]\n",
      " [4.09051427]\n",
      " [3.77575598]\n",
      " [3.33496109]\n",
      " [4.83165679]\n",
      " [3.89758877]\n",
      " [4.22731534]\n",
      " [2.61325723]\n",
      " [4.3717982 ]\n",
      " [4.35553037]\n",
      " [4.36973821]\n",
      " [5.32944444]\n",
      " [4.56028015]\n",
      " [3.61379333]\n",
      " [3.84144667]\n",
      " [4.60670965]\n",
      " [2.7349352 ]\n",
      " [4.51607453]\n",
      " [4.52744237]\n",
      " [3.17587916]\n",
      " [2.93667868]\n",
      " [3.48435148]\n",
      " [3.62613527]\n",
      " [4.23249195]\n",
      " [3.84605576]\n",
      " [5.46049027]\n",
      " [2.85773982]\n",
      " [3.17145728]\n",
      " [3.03177366]\n",
      " [4.47596597]\n",
      " [3.30188375]\n",
      " [3.92742542]\n",
      " [3.27584826]\n",
      " [3.02490232]\n",
      " [2.88220226]\n",
      " [4.48542538]\n",
      " [2.96386132]\n",
      " [3.13535417]\n",
      " [3.64086031]\n",
      " [4.96896856]\n",
      " [2.84322288]\n",
      " [5.01874803]\n",
      " [2.84027791]\n",
      " [5.4255031 ]\n",
      " [3.93429821]\n",
      " [5.42638883]\n",
      " [4.33423978]\n",
      " [4.72896527]\n",
      " [2.67315698]\n",
      " [3.38855711]\n",
      " [2.91104336]\n",
      " [3.42771084]\n",
      " [2.90673003]\n",
      " [3.49185387]\n",
      " [3.77458446]\n",
      " [2.74645242]\n",
      " [4.59155976]\n",
      " [4.22193413]\n",
      " [3.33740982]\n",
      " [4.09462465]\n",
      " [2.83394113]\n",
      " [4.24937632]\n",
      " [5.28700576]\n",
      " [3.49357402]\n",
      " [4.51796468]\n",
      " [2.94511118]\n",
      " [4.66161143]\n",
      " [3.40793579]\n",
      " [3.09603081]\n",
      " [4.2804052 ]\n",
      " [2.61712686]\n",
      " [4.99230475]\n",
      " [2.57186853]]\n"
     ]
    }
   ],
   "source": [
    "print(Y)"
   ]
  },
  {
   "cell_type": "code",
   "execution_count": 95,
   "metadata": {},
   "outputs": [
    {
     "data": {
      "image/png": "[encoded data removed]",
      "text/plain": [
       "<Figure size 432x288 with 1 Axes>"
      ]
     },
     "metadata": {
      "needs_background": "light"
     },
     "output_type": "display_data"
    }
   ],
   "source": [
    "#plotting values and regression Line\n",
    "plt.scatter(x,y,s=10,label = 'Scatter Points')\n",
    "plt.plot(x,Y,color= 'red',label='Regression Line')\n",
    "plt.xlabel('x')\n",
    "plt.ylabel('y')\n",
    "plt.legend()\n",
    "plt.show()"
   ]
  },
  {
   "cell_type": "code",
   "execution_count": 97,
   "metadata": {},
   "outputs": [
    {
     "name": "stdout",
     "output_type": "stream",
     "text": [
      "RMSE [0.27610369]\n"
     ]
    }
   ],
   "source": [
    "#Calculating Root Mean Square Value\n",
    "rmse = 0\n",
    "for i in range(n):\n",
    "    rmse +=(y[i]-Y[i])**2\n",
    "rmse = np.sqrt(rmse/n)\n",
    "print(\"RMSE\",rmse)\n"
   ]
  },
  {
   "cell_type": "code",
   "execution_count": 98,
   "metadata": {},
   "outputs": [
    {
     "name": "stdout",
     "output_type": "stream",
     "text": [
      "R2 Score is  [0.90386556]\n"
     ]
    }
   ],
   "source": [
    "# Calculating r2 value\n",
    "ss_tot = 0\n",
    "ss_res = 0\n",
    "for i in range(n):\n",
    "    ss_tot += (y[i]-mean_y)**2\n",
    "    ss_res += (y[i] - Y[i])**2\n",
    "r2=1-(ss_res/ss_tot)\n",
    "print(\"R2 Score is \",r2)"
   ]
  }
 ],
 "metadata": {
  "kernelspec": {
   "display_name": "Python 3",
   "language": "python",
   "name": "python3"
  },
  "language_info": {
   "codemirror_mode": {
    "name": "ipython",
    "version": 3
   },
   "file_extension": ".py",
   "mimetype": "text/x-python",
   "name": "python",
   "nbconvert_exporter": "python",
   "pygments_lexer": "ipython3",
   "version": "3.6.9"
  }
 },
 "nbformat": 4,
 "nbformat_minor": 4
}
